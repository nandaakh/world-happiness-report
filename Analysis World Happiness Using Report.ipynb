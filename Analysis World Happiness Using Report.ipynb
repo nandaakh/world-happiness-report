{
 "cells": [
  {
   "cell_type": "markdown",
   "id": "4fe50b87",
   "metadata": {},
   "source": [
    "#### Interpret Several Files and Combine Them Into One Data"
   ]
  },
  {
   "cell_type": "code",
   "execution_count": 1,
   "id": "85ec6959",
   "metadata": {},
   "outputs": [],
   "source": [
    "# Load all necessary libraries\n",
    "import numpy as np\n",
    "import pandas as pd\n",
    "import matplotlib.pyplot as plt\n",
    "import seaborn as sns\n",
    "import os"
   ]
  },
  {
   "cell_type": "code",
   "execution_count": 2,
   "id": "d80e7b18",
   "metadata": {},
   "outputs": [
    {
     "name": "stdout",
     "output_type": "stream",
     "text": [
      "world_happiness_data/2020.csv\n",
      "world_happiness_data/2021.csv\n",
      "world_happiness_data/2022.csv\n",
      "world_happiness_data/2019.csv\n",
      "world_happiness_data/2018.csv\n",
      "world_happiness_data/2015.csv\n",
      "world_happiness_data/2016.csv\n",
      "world_happiness_data/2017.csv\n"
     ]
    }
   ],
   "source": [
    "# Locate several csv files in the local directory and put into\n",
    "# dataframe for each file and add 'Year' column\n",
    "data_dict = {}\n",
    "data_directory = 'world_happiness_data'\n",
    "\n",
    "for dirname, _, filenames in os.walk(data_directory):\n",
    "    for filename in filenames:\n",
    "        print(os.path.join(dirname, filename))\n",
    "        df_filename = pd.read_csv(os.path.join(dirname, filename))\n",
    "        df_filename['Year'] = filename[:-4]\n",
    "        data_dict[filename[:-4]] = df_filename # to save DataFrame into dictionary 'data_dict' while using Year as a key"
   ]
  },
  {
   "cell_type": "code",
   "execution_count": 3,
   "id": "6013b6d9",
   "metadata": {},
   "outputs": [
    {
     "name": "stdout",
     "output_type": "stream",
     "text": [
      "2020\n",
      "Index(['Country name', 'Regional indicator', 'Ladder score',\n",
      "       'Standard error of ladder score', 'upperwhisker', 'lowerwhisker',\n",
      "       'Logged GDP per capita', 'Social support', 'Healthy life expectancy',\n",
      "       'Freedom to make life choices', 'Generosity',\n",
      "       'Perceptions of corruption', 'Ladder score in Dystopia',\n",
      "       'Explained by: Log GDP per capita', 'Explained by: Social support',\n",
      "       'Explained by: Healthy life expectancy',\n",
      "       'Explained by: Freedom to make life choices',\n",
      "       'Explained by: Generosity', 'Explained by: Perceptions of corruption',\n",
      "       'Dystopia + residual', 'Year'],\n",
      "      dtype='object')\n",
      "21\n",
      "2021\n",
      "Index(['Country name', 'Regional indicator', 'Ladder score',\n",
      "       'Standard error of ladder score', 'upperwhisker', 'lowerwhisker',\n",
      "       'Logged GDP per capita', 'Social support', 'Healthy life expectancy',\n",
      "       'Freedom to make life choices', 'Generosity',\n",
      "       'Perceptions of corruption', 'Ladder score in Dystopia',\n",
      "       'Explained by: Log GDP per capita', 'Explained by: Social support',\n",
      "       'Explained by: Healthy life expectancy',\n",
      "       'Explained by: Freedom to make life choices',\n",
      "       'Explained by: Generosity', 'Explained by: Perceptions of corruption',\n",
      "       'Dystopia + residual', 'Year'],\n",
      "      dtype='object')\n",
      "21\n",
      "2022\n",
      "Index(['RANK', 'Country', 'Happiness score', 'Whisker-high', 'Whisker-low',\n",
      "       'Dystopia (1.83) + residual', 'Explained by: GDP per capita',\n",
      "       'Explained by: Social support', 'Explained by: Healthy life expectancy',\n",
      "       'Explained by: Freedom to make life choices',\n",
      "       'Explained by: Generosity', 'Explained by: Perceptions of corruption',\n",
      "       'Year'],\n",
      "      dtype='object')\n",
      "13\n",
      "2019\n",
      "Index(['Overall rank', 'Country or region', 'Score', 'GDP per capita',\n",
      "       'Social support', 'Healthy life expectancy',\n",
      "       'Freedom to make life choices', 'Generosity',\n",
      "       'Perceptions of corruption', 'Year'],\n",
      "      dtype='object')\n",
      "10\n",
      "2018\n",
      "Index(['Overall rank', 'Country or region', 'Score', 'GDP per capita',\n",
      "       'Social support', 'Healthy life expectancy',\n",
      "       'Freedom to make life choices', 'Generosity',\n",
      "       'Perceptions of corruption', 'Year'],\n",
      "      dtype='object')\n",
      "10\n",
      "2015\n",
      "Index(['Country', 'Region', 'Happiness Rank', 'Happiness Score',\n",
      "       'Standard Error', 'Economy (GDP per Capita)', 'Family',\n",
      "       'Health (Life Expectancy)', 'Freedom', 'Trust (Government Corruption)',\n",
      "       'Generosity', 'Dystopia Residual', 'Year'],\n",
      "      dtype='object')\n",
      "13\n",
      "2016\n",
      "Index(['Country', 'Region', 'Happiness Rank', 'Happiness Score',\n",
      "       'Lower Confidence Interval', 'Upper Confidence Interval',\n",
      "       'Economy (GDP per Capita)', 'Family', 'Health (Life Expectancy)',\n",
      "       'Freedom', 'Trust (Government Corruption)', 'Generosity',\n",
      "       'Dystopia Residual', 'Year'],\n",
      "      dtype='object')\n",
      "14\n",
      "2017\n",
      "Index(['Country', 'Happiness.Rank', 'Happiness.Score', 'Whisker.high',\n",
      "       'Whisker.low', 'Economy..GDP.per.Capita.', 'Family',\n",
      "       'Health..Life.Expectancy.', 'Freedom', 'Generosity',\n",
      "       'Trust..Government.Corruption.', 'Dystopia.Residual', 'Year'],\n",
      "      dtype='object')\n",
      "13\n"
     ]
    }
   ],
   "source": [
    "# look at the columns of each file,\n",
    "# whether it has the same variables on each file\n",
    "for df_key in data_dict:\n",
    "    print(df_key)\n",
    "    print(data_dict[df_key].columns)\n",
    "    print(len(data_dict[df_key].columns)) # count number of element in 'columns'"
   ]
  },
  {
   "cell_type": "markdown",
   "id": "67194dbe",
   "metadata": {},
   "source": [
    "By looking at column names on each files, the column names are inconsistent. For this analysis process we need these following columns:\n",
    "Country, Year, Region, GDP, Health (Life Expectancy), Social Support, Freedom (to make life choices), Generosity, Trust (Goverment Corruption), and Happiness Score\n",
    "\n",
    "For the next step we need to combine these files into one dataset, add missing columns, and use consistent column names."
   ]
  },
  {
   "cell_type": "code",
   "execution_count": 4,
   "id": "0e3a7914",
   "metadata": {},
   "outputs": [
    {
     "data": {
      "text/plain": [
       "dict_keys(['2020', '2021', '2022', '2019', '2018', '2015', '2016', '2017'])"
      ]
     },
     "execution_count": 4,
     "metadata": {},
     "output_type": "execute_result"
    }
   ],
   "source": [
    "data_dict.keys()"
   ]
  },
  {
   "cell_type": "code",
   "execution_count": 5,
   "id": "6ccf5959",
   "metadata": {},
   "outputs": [],
   "source": [
    "# Define right and consistent column names\n",
    "# 2015 data\n",
    "data_15 = data_dict['2015'].copy()\n",
    "data_15 = data_15[['Year', 'Country', 'Region', 'Economy (GDP per Capita)', 'Health (Life Expectancy)', 'Family', 'Freedom', 'Generosity', 'Trust (Government Corruption)', 'Happiness Score',]]\n",
    "data_15.rename(columns = {\n",
    "    'Economy (GDP per Capita)': 'Economy',\n",
    "    'Health (Life Expectancy)': 'Health',\n",
    "    'Family': 'Social Support',\n",
    "    'Trust (Government Corruption)': 'Trust',\n",
    "    'Happiness Score': 'Score'},\n",
    "               inplace=True)\n",
    "data_dict['2015'] = data_15\n",
    "del data_15\n",
    "\n",
    "# 2016 data\n",
    "data_16 = data_dict['2016'].copy()\n",
    "data_16 = data_16[['Year', 'Country', 'Region', 'Economy (GDP per Capita)',\n",
    "                   'Health (Life Expectancy)', 'Family', 'Freedom',\n",
    "                   'Generosity', 'Trust (Government Corruption)',\n",
    "                   'Happiness Score',\n",
    "                  ]]\n",
    "data_16.rename(columns = {\n",
    "    'Economy (GDP per Capita)': 'Economy',\n",
    "    'Health (Life Expectancy)': 'Health',\n",
    "    'Family': 'Social Support',\n",
    "    'Trust (Government Corruption)': 'Trust',\n",
    "    'Happiness Score': 'Score'},\n",
    "               inplace=True)\n",
    "data_dict['2016'] = data_16\n",
    "del data_16\n",
    "\n",
    "# 2017 data\n",
    "data_17 = data_dict['2017'].copy()\n",
    "data_17 = data_17[['Year', 'Country', 'Economy..GDP.per.Capita.',\n",
    "                   'Health..Life.Expectancy.', 'Family', 'Freedom', \n",
    "                   'Generosity', 'Trust..Government.Corruption.', \n",
    "                   'Happiness.Score',\n",
    "                  ]]\n",
    "data_17.rename(columns = {\n",
    "    'Economy..GDP.per.Capita.': 'Economy',\n",
    "    'Health..Life.Expectancy.': 'Health',\n",
    "    'Family': 'Social Support',\n",
    "    'Trust..Government.Corruption.': 'Trust',\n",
    "    'Happiness.Score': 'Score'},\n",
    "               inplace=True)\n",
    "data_dict['2017'] = data_17\n",
    "del data_17\n",
    "\n",
    "# 2018 data\n",
    "data_18 = data_dict['2018'].copy()\n",
    "data_18 = data_18[['Year', 'Country or region', 'GDP per capita',\n",
    "                   'Healthy life expectancy', 'Social support',\n",
    "                   'Freedom to make life choices', 'Generosity',\n",
    "                   'Perceptions of corruption', 'Score',\n",
    "                  ]]\n",
    "data_18.rename(columns = {\n",
    "    'Country or region': 'Country',\n",
    "    'GDP per capita': 'Economy',\n",
    "    'Healthy life expectancy': 'Health',\n",
    "    'Social support': 'Social Support',\n",
    "    'Freedom to make life choices': 'Freedom',\n",
    "    'Perceptions of corruption': 'Trust',},\n",
    "               inplace=True)\n",
    "data_dict['2018'] = data_18\n",
    "del data_18\n",
    "\n",
    "# 2019 data\n",
    "data_19 = data_dict['2019'].copy()\n",
    "data_19 = data_19[['Year', 'Country or region', 'GDP per capita',\n",
    "                   'Healthy life expectancy', 'Social support',\n",
    "                   'Freedom to make life choices', 'Generosity',\n",
    "                   'Perceptions of corruption', 'Score',\n",
    "                  ]]\n",
    "data_19.rename(columns = {\n",
    "    'Country or region': 'Country',\n",
    "    'GDP per capita': 'Economy',\n",
    "    'Healthy life expectancy': 'Health',\n",
    "    'Social support': 'Social Support',\n",
    "    'Freedom to make life choices': 'Freedom',\n",
    "    'Perceptions of corruption': 'Trust',},\n",
    "               inplace=True)\n",
    "data_dict['2019'] = data_19\n",
    "del data_19\n",
    "\n",
    "# 2020 data\n",
    "data_20 = data_dict['2020'].copy()\n",
    "data_20 = data_20[['Year', 'Country name', 'Regional indicator',\n",
    "                   'Logged GDP per capita', 'Healthy life expectancy',\n",
    "                   'Social support', 'Freedom to make life choices',\n",
    "                   'Generosity', 'Perceptions of corruption', 'Ladder score',\n",
    "                  ]]\n",
    "data_20.rename(columns = {\n",
    "    'Country name': 'Country',\n",
    "    'Regional indicator': 'Region',\n",
    "    'Logged GDP per capita': 'Economy',\n",
    "    'Healthy life expectancy': 'Health',\n",
    "    'Social support': 'Social Support',\n",
    "    'Freedom to make life choices': 'Freedom',\n",
    "    'Perceptions of corruption': 'Trust',\n",
    "    'Ladder score': 'Score'},\n",
    "               inplace=True)\n",
    "data_dict['2020'] = data_20\n",
    "del data_20\n",
    "\n",
    "# 2021 data\n",
    "data_21 = data_dict['2021'].copy()\n",
    "data_21 = data_21[['Year', 'Country name', 'Regional indicator',\n",
    "                   'Logged GDP per capita', 'Healthy life expectancy',\n",
    "                   'Social support', 'Freedom to make life choices',\n",
    "                   'Generosity', 'Perceptions of corruption', 'Ladder score',\n",
    "                  ]]\n",
    "data_21.rename(columns = {\n",
    "    'Country name': 'Country',\n",
    "    'Regional indicator': 'Region',\n",
    "    'Logged GDP per capita': 'Economy',\n",
    "    'Healthy life expectancy': 'Health',\n",
    "    'Social support': 'Social Support',\n",
    "    'Freedom to make life choices': 'Freedom',\n",
    "    'Perceptions of corruption': 'Trust',\n",
    "    'Ladder score': 'Score'},\n",
    "               inplace=True)\n",
    "data_dict['2021'] = data_21\n",
    "del data_21\n",
    "\n",
    "# 2022 data\n",
    "data_22 = data_dict['2022'].copy()\n",
    "data_22 = data_22[['Year', 'Country', 'Explained by: GDP per capita',\n",
    "                   'Explained by: Healthy life expectancy', 'Explained by: Social support', \n",
    "                   'Explained by: Freedom to make life choices',\n",
    "                   'Explained by: Generosity', 'Explained by: Perceptions of corruption',\n",
    "                   'Happiness score',]]\n",
    "data_22.rename(columns = {\n",
    "    'Explained by: GDP per capita': 'Economy',\n",
    "    'Explained by: Healthy life expectancy': 'Health',\n",
    "    'Explained by: Social support': 'Social Support',\n",
    "    'Explained by: Freedom to make life choices': 'Freedom',\n",
    "    'Explained by: Generosity': 'Generosity',\n",
    "    'Explained by: Perceptions of corruption': 'Trust',\n",
    "    'Happiness score': 'Score'},\n",
    "               inplace=True)\n",
    "data_dict['2022'] = data_22\n",
    "del data_22"
   ]
  },
  {
   "cell_type": "markdown",
   "id": "34d192e4",
   "metadata": {},
   "source": [
    "During naming these column, we found out that region attribute are missing on some data. To ensure this finding, let's have a look"
   ]
  },
  {
   "cell_type": "code",
   "execution_count": 6,
   "id": "fbfdbdff",
   "metadata": {},
   "outputs": [
    {
     "name": "stdout",
     "output_type": "stream",
     "text": [
      "2020\t10\tTrue\n",
      "2021\t10\tTrue\n",
      "2022\t9\tFalse\n",
      "2019\t9\tFalse\n",
      "2018\t9\tFalse\n",
      "2015\t10\tTrue\n",
      "2016\t10\tTrue\n",
      "2017\t9\tFalse\n"
     ]
    }
   ],
   "source": [
    "for df_key in data_dict:\n",
    "    print(df_key, len(data_dict[df_key].columns),\n",
    "          'Region' in list(data_dict[df_key].columns),\n",
    "          sep='\\t')"
   ]
  },
  {
   "cell_type": "markdown",
   "id": "098bce9c",
   "metadata": {},
   "source": [
    "Do also for number of countries for each data. Perhaps there's a different as well."
   ]
  },
  {
   "cell_type": "code",
   "execution_count": 7,
   "id": "a68fa088",
   "metadata": {},
   "outputs": [
    {
     "name": "stdout",
     "output_type": "stream",
     "text": [
      "2020\t153\n",
      "2021\t149\n",
      "2022\t147\n",
      "2019\t156\n",
      "2018\t156\n",
      "2015\t158\n",
      "2016\t157\n",
      "2017\t155\n"
     ]
    }
   ],
   "source": [
    "for df_key in data_dict:\n",
    "    print(df_key, len(data_dict[df_key]['Country'].unique()),\n",
    "         sep='\\t')"
   ]
  },
  {
   "cell_type": "markdown",
   "id": "979983b3",
   "metadata": {},
   "source": [
    "We observe that we do have different number of countries on each data. 2015 has the most number of countries (158). Maybe there's no new country added over the years since. We can check using script below"
   ]
  },
  {
   "cell_type": "code",
   "execution_count": 8,
   "id": "55839dd0",
   "metadata": {},
   "outputs": [
    {
     "name": "stdout",
     "output_type": "stream",
     "text": [
      "2020\tFalse\n",
      "2021\tFalse\n",
      "2022\tFalse\n",
      "2019\tFalse\n",
      "2018\tFalse\n",
      "2015\tTrue\n",
      "2016\tFalse\n",
      "2017\tFalse\n"
     ]
    }
   ],
   "source": [
    "data_15_countries = set(data_dict['2015']['Country'])\n",
    "for df_key in data_dict:\n",
    "    df_key_countries = set(data_dict[df_key]['Country'])\n",
    "    print(df_key, df_key_countries.issubset(data_15_countries), sep='\\t')"
   ]
  },
  {
   "cell_type": "markdown",
   "id": "a391728e",
   "metadata": {},
   "source": [
    "It shows that there are countries added and removed in the upcoming years. We decide to keep only those countries present in the data for all the years."
   ]
  },
  {
   "cell_type": "code",
   "execution_count": 9,
   "id": "112563a0",
   "metadata": {},
   "outputs": [
    {
     "name": "stdout",
     "output_type": "stream",
     "text": [
      "158\n",
      "2020\t147\n",
      "2021\t143\n",
      "2022\t119\n",
      "2019\t119\n",
      "2018\t119\n",
      "2015\t119\n",
      "2016\t118\n",
      "2017\t117\n"
     ]
    }
   ],
   "source": [
    "# looping attribut 'Country'\n",
    "mutual_countries = set(data_dict['2015']['Country'])\n",
    "print(len(mutual_countries))\n",
    "for df_key in data_dict:\n",
    "    df_key_countries = set(data_dict[df_key]['Country'])\n",
    "    mutual_countries = df_key_countries.intersection(mutual_countries)\n",
    "    print(df_key, len(mutual_countries), sep='\\t')"
   ]
  },
  {
   "cell_type": "code",
   "execution_count": 10,
   "id": "5b6a871d",
   "metadata": {},
   "outputs": [
    {
     "name": "stdout",
     "output_type": "stream",
     "text": [
      "2020\t117\n",
      "2021\t117\n",
      "2022\t117\n",
      "2019\t117\n",
      "2018\t117\n",
      "2015\t117\n",
      "2016\t117\n",
      "2017\t117\n"
     ]
    }
   ],
   "source": [
    "# Filter yearly data by mutual countries\n",
    "for df_key in data_dict:\n",
    "    data_dict[df_key] = data_dict[df_key][data_dict[df_key]['Country'].isin(mutual_countries)]\n",
    "    print(df_key, len(data_dict[df_key]), sep='\\t')"
   ]
  },
  {
   "cell_type": "markdown",
   "id": "3ca1a9cf",
   "metadata": {},
   "source": [
    "To add missing region column on each data, let's use this following step:\n",
    "1. Check which years have it missing. In fact, we will remove the Region column from 2016 onwards as the Region names are also inconsistent.\n",
    "2. Extract Country and Region columns from the 2015 data.\n",
    "3. Merge the Region column with datasets missing it using the Country column."
   ]
  },
  {
   "cell_type": "code",
   "execution_count": 11,
   "id": "56867eb7",
   "metadata": {},
   "outputs": [
    {
     "name": "stdout",
     "output_type": "stream",
     "text": [
      "2020\t9\tFalse\n",
      "2021\t9\tFalse\n",
      "2016\t9\tFalse\n"
     ]
    }
   ],
   "source": [
    "# step 1\n",
    "for df_key in data_dict:\n",
    "    if(df_key != '2015') and ('Region' in data_dict[df_key].columns):\n",
    "        data_dict[df_key].drop(['Region'], axis=1, inplace=True)\n",
    "        print(df_key, len(data_dict[df_key].columns),\n",
    "             'Region' in list(data_dict[df_key].columns), sep='\\t')"
   ]
  },
  {
   "cell_type": "code",
   "execution_count": 12,
   "id": "b9f60112",
   "metadata": {},
   "outputs": [],
   "source": [
    "# step 2\n",
    "data_reg = data_dict['2015'][['Country', 'Region']]\n",
    "for df_key in ['2016', '2017', '2018', '2019', '2020', '2021', '2022']:\n",
    "    data_dict[df_key] = pd.merge(data_dict[df_key], data_reg, on='Country')"
   ]
  },
  {
   "cell_type": "code",
   "execution_count": 13,
   "id": "6c221932",
   "metadata": {},
   "outputs": [
    {
     "name": "stdout",
     "output_type": "stream",
     "text": [
      "2020\t10\tTrue\n",
      "2021\t10\tTrue\n",
      "2022\t10\tTrue\n",
      "2019\t10\tTrue\n",
      "2018\t10\tTrue\n",
      "2015\t10\tTrue\n",
      "2016\t10\tTrue\n",
      "2017\t10\tTrue\n"
     ]
    }
   ],
   "source": [
    "# Let's check if placing those missing Region column are successful\n",
    "for df_key in data_dict:\n",
    "    print(df_key, len(data_dict[df_key].columns),\n",
    "         'Region' in list(data_dict[df_key].columns),\n",
    "         sep='\\t')"
   ]
  },
  {
   "cell_type": "code",
   "execution_count": 14,
   "id": "bf6d51f9",
   "metadata": {},
   "outputs": [
    {
     "data": {
      "text/plain": [
       "True"
      ]
     },
     "execution_count": 14,
     "metadata": {},
     "output_type": "execute_result"
    }
   ],
   "source": [
    "# Let's combine dataset for all the years\n",
    "data = pd.concat(list(data_dict.values()))\n",
    "len(data) == (2022-2014)*117"
   ]
  },
  {
   "cell_type": "markdown",
   "id": "cbd1c9c4",
   "metadata": {},
   "source": [
    "##### Data Preprocessing, Cleaning, and Manipulating"
   ]
  },
  {
   "cell_type": "code",
   "execution_count": 15,
   "id": "75539d78",
   "metadata": {},
   "outputs": [
    {
     "data": {
      "text/html": [
       "<div>\n",
       "<style scoped>\n",
       "    .dataframe tbody tr th:only-of-type {\n",
       "        vertical-align: middle;\n",
       "    }\n",
       "\n",
       "    .dataframe tbody tr th {\n",
       "        vertical-align: top;\n",
       "    }\n",
       "\n",
       "    .dataframe thead th {\n",
       "        text-align: right;\n",
       "    }\n",
       "</style>\n",
       "<table border=\"1\" class=\"dataframe\">\n",
       "  <thead>\n",
       "    <tr style=\"text-align: right;\">\n",
       "      <th></th>\n",
       "      <th>Year</th>\n",
       "      <th>Country</th>\n",
       "      <th>Economy</th>\n",
       "      <th>Health</th>\n",
       "      <th>Social Support</th>\n",
       "      <th>Freedom</th>\n",
       "      <th>Generosity</th>\n",
       "      <th>Trust</th>\n",
       "      <th>Score</th>\n",
       "      <th>Region</th>\n",
       "    </tr>\n",
       "  </thead>\n",
       "  <tbody>\n",
       "    <tr>\n",
       "      <th>0</th>\n",
       "      <td>2020</td>\n",
       "      <td>Finland</td>\n",
       "      <td>10.639267</td>\n",
       "      <td>71.900825</td>\n",
       "      <td>0.95433</td>\n",
       "      <td>0.949172</td>\n",
       "      <td>-0.059482</td>\n",
       "      <td>0.195445</td>\n",
       "      <td>7.8087</td>\n",
       "      <td>Western Europe</td>\n",
       "    </tr>\n",
       "    <tr>\n",
       "      <th>1</th>\n",
       "      <td>2020</td>\n",
       "      <td>Denmark</td>\n",
       "      <td>10.774001</td>\n",
       "      <td>72.402504</td>\n",
       "      <td>0.955991</td>\n",
       "      <td>0.951444</td>\n",
       "      <td>0.066202</td>\n",
       "      <td>0.168489</td>\n",
       "      <td>7.6456</td>\n",
       "      <td>Western Europe</td>\n",
       "    </tr>\n",
       "    <tr>\n",
       "      <th>2</th>\n",
       "      <td>2020</td>\n",
       "      <td>Switzerland</td>\n",
       "      <td>10.979933</td>\n",
       "      <td>74.102448</td>\n",
       "      <td>0.942847</td>\n",
       "      <td>0.921337</td>\n",
       "      <td>0.105911</td>\n",
       "      <td>0.303728</td>\n",
       "      <td>7.5599</td>\n",
       "      <td>Western Europe</td>\n",
       "    </tr>\n",
       "    <tr>\n",
       "      <th>3</th>\n",
       "      <td>2020</td>\n",
       "      <td>Iceland</td>\n",
       "      <td>10.772559</td>\n",
       "      <td>73.0</td>\n",
       "      <td>0.97467</td>\n",
       "      <td>0.948892</td>\n",
       "      <td>0.246944</td>\n",
       "      <td>0.71171</td>\n",
       "      <td>7.5045</td>\n",
       "      <td>Western Europe</td>\n",
       "    </tr>\n",
       "    <tr>\n",
       "      <th>4</th>\n",
       "      <td>2020</td>\n",
       "      <td>Norway</td>\n",
       "      <td>11.087804</td>\n",
       "      <td>73.200783</td>\n",
       "      <td>0.952487</td>\n",
       "      <td>0.95575</td>\n",
       "      <td>0.134533</td>\n",
       "      <td>0.263218</td>\n",
       "      <td>7.488</td>\n",
       "      <td>Western Europe</td>\n",
       "    </tr>\n",
       "  </tbody>\n",
       "</table>\n",
       "</div>"
      ],
      "text/plain": [
       "   Year      Country    Economy     Health Social Support   Freedom  \\\n",
       "0  2020      Finland  10.639267  71.900825        0.95433  0.949172   \n",
       "1  2020      Denmark  10.774001  72.402504       0.955991  0.951444   \n",
       "2  2020  Switzerland  10.979933  74.102448       0.942847  0.921337   \n",
       "3  2020      Iceland  10.772559       73.0        0.97467  0.948892   \n",
       "4  2020       Norway  11.087804  73.200783       0.952487   0.95575   \n",
       "\n",
       "  Generosity     Trust   Score          Region  \n",
       "0  -0.059482  0.195445  7.8087  Western Europe  \n",
       "1   0.066202  0.168489  7.6456  Western Europe  \n",
       "2   0.105911  0.303728  7.5599  Western Europe  \n",
       "3   0.246944   0.71171  7.5045  Western Europe  \n",
       "4   0.134533  0.263218   7.488  Western Europe  "
      ]
     },
     "execution_count": 15,
     "metadata": {},
     "output_type": "execute_result"
    }
   ],
   "source": [
    "data.head()"
   ]
  },
  {
   "cell_type": "code",
   "execution_count": 16,
   "id": "deb7ae13",
   "metadata": {},
   "outputs": [
    {
     "data": {
      "text/plain": [
       "Index(['Year', 'Country', 'Economy', 'Health', 'Social Support', 'Freedom',\n",
       "       'Generosity', 'Trust', 'Score', 'Region'],\n",
       "      dtype='object')"
      ]
     },
     "execution_count": 16,
     "metadata": {},
     "output_type": "execute_result"
    }
   ],
   "source": [
    "data.columns"
   ]
  },
  {
   "cell_type": "code",
   "execution_count": 17,
   "id": "35513a08",
   "metadata": {},
   "outputs": [
    {
     "name": "stdout",
     "output_type": "stream",
     "text": [
      "<class 'pandas.core.frame.DataFrame'>\n",
      "Int64Index: 936 entries, 0 to 116\n",
      "Data columns (total 10 columns):\n",
      " #   Column          Non-Null Count  Dtype \n",
      "---  ------          --------------  ----- \n",
      " 0   Year            936 non-null    object\n",
      " 1   Country         936 non-null    object\n",
      " 2   Economy         936 non-null    object\n",
      " 3   Health          936 non-null    object\n",
      " 4   Social Support  936 non-null    object\n",
      " 5   Freedom         936 non-null    object\n",
      " 6   Generosity      936 non-null    object\n",
      " 7   Trust           935 non-null    object\n",
      " 8   Score           936 non-null    object\n",
      " 9   Region          936 non-null    object\n",
      "dtypes: object(10)\n",
      "memory usage: 80.4+ KB\n"
     ]
    }
   ],
   "source": [
    "data.info()"
   ]
  },
  {
   "cell_type": "code",
   "execution_count": 18,
   "id": "96c7222d",
   "metadata": {},
   "outputs": [
    {
     "data": {
      "text/html": [
       "<div>\n",
       "<style scoped>\n",
       "    .dataframe tbody tr th:only-of-type {\n",
       "        vertical-align: middle;\n",
       "    }\n",
       "\n",
       "    .dataframe tbody tr th {\n",
       "        vertical-align: top;\n",
       "    }\n",
       "\n",
       "    .dataframe thead th {\n",
       "        text-align: right;\n",
       "    }\n",
       "</style>\n",
       "<table border=\"1\" class=\"dataframe\">\n",
       "  <thead>\n",
       "    <tr style=\"text-align: right;\">\n",
       "      <th></th>\n",
       "      <th>Year</th>\n",
       "      <th>Country</th>\n",
       "      <th>Economy</th>\n",
       "      <th>Health</th>\n",
       "      <th>Social Support</th>\n",
       "      <th>Freedom</th>\n",
       "      <th>Generosity</th>\n",
       "      <th>Trust</th>\n",
       "      <th>Score</th>\n",
       "      <th>Region</th>\n",
       "    </tr>\n",
       "  </thead>\n",
       "  <tbody>\n",
       "    <tr>\n",
       "      <th>count</th>\n",
       "      <td>936</td>\n",
       "      <td>936</td>\n",
       "      <td>936.00</td>\n",
       "      <td>936.000</td>\n",
       "      <td>936.000</td>\n",
       "      <td>936.000</td>\n",
       "      <td>936.000</td>\n",
       "      <td>935.000</td>\n",
       "      <td>936.00</td>\n",
       "      <td>936</td>\n",
       "    </tr>\n",
       "    <tr>\n",
       "      <th>unique</th>\n",
       "      <td>8</td>\n",
       "      <td>117</td>\n",
       "      <td>915.00</td>\n",
       "      <td>864.000</td>\n",
       "      <td>859.000</td>\n",
       "      <td>858.000</td>\n",
       "      <td>807.000</td>\n",
       "      <td>809.000</td>\n",
       "      <td>880.00</td>\n",
       "      <td>10</td>\n",
       "    </tr>\n",
       "    <tr>\n",
       "      <th>top</th>\n",
       "      <td>2020</td>\n",
       "      <td>Finland</td>\n",
       "      <td>0.96</td>\n",
       "      <td>0.815</td>\n",
       "      <td>0.942</td>\n",
       "      <td>0.334</td>\n",
       "      <td>0.175</td>\n",
       "      <td>0.082</td>\n",
       "      <td>5.89</td>\n",
       "      <td>Central and Eastern Europe</td>\n",
       "    </tr>\n",
       "    <tr>\n",
       "      <th>freq</th>\n",
       "      <td>117</td>\n",
       "      <td>8</td>\n",
       "      <td>4.00</td>\n",
       "      <td>5.000</td>\n",
       "      <td>3.000</td>\n",
       "      <td>3.000</td>\n",
       "      <td>5.000</td>\n",
       "      <td>7.000</td>\n",
       "      <td>3.00</td>\n",
       "      <td>192</td>\n",
       "    </tr>\n",
       "  </tbody>\n",
       "</table>\n",
       "</div>"
      ],
      "text/plain": [
       "        Year  Country  Economy   Health  Social Support  Freedom  Generosity  \\\n",
       "count    936      936   936.00  936.000         936.000  936.000     936.000   \n",
       "unique     8      117   915.00  864.000         859.000  858.000     807.000   \n",
       "top     2020  Finland     0.96    0.815           0.942    0.334       0.175   \n",
       "freq     117        8     4.00    5.000           3.000    3.000       5.000   \n",
       "\n",
       "          Trust   Score                      Region  \n",
       "count   935.000  936.00                         936  \n",
       "unique  809.000  880.00                          10  \n",
       "top       0.082    5.89  Central and Eastern Europe  \n",
       "freq      7.000    3.00                         192  "
      ]
     },
     "execution_count": 18,
     "metadata": {},
     "output_type": "execute_result"
    }
   ],
   "source": [
    "data.describe(include='all')"
   ]
  },
  {
   "cell_type": "markdown",
   "id": "3d468520",
   "metadata": {},
   "source": [
    "In this process we tend to fixing some inconsistency in our data, such as formating data type. We found that some attribut that has number value in it are in string. Also, perhaps we find there are numbers written with (,) instead of (.)"
   ]
  },
  {
   "cell_type": "code",
   "execution_count": 19,
   "id": "d3dc6544",
   "metadata": {},
   "outputs": [
    {
     "data": {
      "text/plain": [
       "Year              object\n",
       "Country           object\n",
       "Economy           object\n",
       "Health            object\n",
       "Social Support    object\n",
       "Freedom           object\n",
       "Generosity        object\n",
       "Trust             object\n",
       "Score             object\n",
       "Region            object\n",
       "dtype: object"
      ]
     },
     "execution_count": 19,
     "metadata": {},
     "output_type": "execute_result"
    }
   ],
   "source": [
    "data.dtypes"
   ]
  },
  {
   "cell_type": "code",
   "execution_count": 20,
   "id": "71293970",
   "metadata": {},
   "outputs": [],
   "source": [
    "# Change the format data type\n",
    "def str_to_float(string):\n",
    "    if type(string) == str:\n",
    "        string = string.replace(',' , '.')\n",
    "    return float(string)"
   ]
  },
  {
   "cell_type": "code",
   "execution_count": 21,
   "id": "30800038",
   "metadata": {},
   "outputs": [],
   "source": [
    "num_column = ['Economy', 'Health', 'Social Support', 'Freedom', 'Generosity', 'Trust', 'Score']\n",
    "for col in num_column:\n",
    "    data[col] = data[col].map(lambda p: str_to_float(p))"
   ]
  },
  {
   "cell_type": "code",
   "execution_count": 22,
   "id": "08e7195d",
   "metadata": {},
   "outputs": [
    {
     "data": {
      "text/plain": [
       "Year               object\n",
       "Country            object\n",
       "Economy           float64\n",
       "Health            float64\n",
       "Social Support    float64\n",
       "Freedom           float64\n",
       "Generosity        float64\n",
       "Trust             float64\n",
       "Score             float64\n",
       "Region             object\n",
       "dtype: object"
      ]
     },
     "execution_count": 22,
     "metadata": {},
     "output_type": "execute_result"
    }
   ],
   "source": [
    "data.dtypes"
   ]
  },
  {
   "cell_type": "code",
   "execution_count": 23,
   "id": "56a5f37b",
   "metadata": {},
   "outputs": [
    {
     "data": {
      "text/plain": [
       "count    936.000000\n",
       "mean       5.608489\n",
       "std        1.067775\n",
       "min        2.404000\n",
       "25%        4.811250\n",
       "50%        5.653000\n",
       "75%        6.361600\n",
       "max        7.842000\n",
       "Name: Score, dtype: float64"
      ]
     },
     "execution_count": 23,
     "metadata": {},
     "output_type": "execute_result"
    }
   ],
   "source": [
    "data['Score'].describe()"
   ]
  },
  {
   "cell_type": "markdown",
   "id": "c7e094da",
   "metadata": {},
   "source": [
    "Happiest countries with range from 6.36 to 7.84 are represent with 25% of it."
   ]
  },
  {
   "cell_type": "markdown",
   "id": "d90c39bf",
   "metadata": {},
   "source": [
    "##### Analyze Process"
   ]
  },
  {
   "cell_type": "markdown",
   "id": "f5319d76",
   "metadata": {},
   "source": [
    "For the next process we will answer the following questions, several analytical methods will be used to gain comprehensive insight\n",
    "\n",
    "Q1: Is there a difference in happiness scores between developed and developing countries? If so, what is the most likely cause of the difference?\n",
    "\n",
    "Q2: Do economic factors have a significant influence on happiness scores in different countries?\n",
    "\n",
    "Q3: What is the correlation between life expectancy and happiness scores in different countries?\n",
    "\n",
    "Q4: Does the level of social support affect the happiness score? is there a difference in social support levels between countries with high and low happiness scores?\n",
    "\n",
    "Q5: Is the level of trust in government related to happiness scores in different countries?\n",
    "\n",
    "Q6: How does the level of generosity affect happiness scores in different countries?\n",
    "\n",
    "Q7: Is there a trend of change in happiness scores from year to year? if so, what might be the cause?\n",
    "\n",
    "Q8: How do the happiness scores compare between the different regions? Are there significant differences in happiness factors between these regions?\n",
    "\n",
    "Q9: How do happiness factors influence individual happiness scores in a country? Do these factors have a even impact across countries or are there regional variations?\n",
    "\n",
    "Q10: How does the level of government corruption relate to happiness scores in different countries? Does the level of corruption have a negative impact on people's happiness?"
   ]
  },
  {
   "cell_type": "code",
   "execution_count": 24,
   "id": "938b3553",
   "metadata": {},
   "outputs": [],
   "source": [
    "# To answer Q1\n",
    "# Firstly, load 'stats' function from scipy library\n",
    "from scipy import stats\n",
    "\n",
    "# Group which countries fall into the category of \n",
    "# advanced countries and emerging countries\n",
    "advanced_country = ['Finland', 'Denmark', 'Switzerland', 'Iceland', 'Norway',\n",
    "               'Netherlands', 'Sweden', 'New Zealand', 'Austria', 'Luxembourg',\n",
    "               'Canada', 'Australia', 'United Kingdom', 'Israel', 'Ireland',\n",
    "               'Germany', 'United States', 'Belgium', 'United Arab Emirates',\n",
    "               'France', 'Singapore', 'Italy', 'South Korea', 'Japan',\n",
    "               'Portugal', 'Spain', 'Slovenia', 'Estonia', 'Greece', 'Croatia',\n",
    "               'Cyprus', 'Latvia', 'Lithuania', 'Poland', 'Czech Republic',\n",
    "               'Slovakia', 'Malta', 'Hungary', 'Chile', 'Bahrain', 'Kuwait',\n",
    "               'Argentina', 'Romania', 'Uruguay', 'Saudi Arabia']\n",
    "\n",
    "emerging_country = ['Mexico', 'Guatemala', 'Brazil', 'El Salvador', 'Kosovo',\n",
    "                     'Panama', 'Uzbekistan', 'Nicaragua', 'Colombia', 'Mauritius',\n",
    "                     'Kazakhstan', 'Philippines', 'Thailand', 'Honduras',\n",
    "                     'Ecuador', 'Jamaica', 'Peru', 'Serbia', 'Bolivia', 'Paraguay',\n",
    "                     'Dominican Republic', 'Bosnia and Herzegovina', 'Moldova',\n",
    "                     'Tajikistan', 'Montenegro', 'Russia', 'Kyrgyzstan', 'Belarus',\n",
    "                     'North Cyprus', 'Libya', 'Mongolia', 'Malaysia', 'Vietnam',\n",
    "                     'Indonesia', 'Ivory Coast', 'Benin', 'Congo (Brazzaville)',\n",
    "                     'Azerbaijan', 'Macedonia', 'Ghana', 'Nepal', 'Turkey', 'China',\n",
    "                     'Turkmenistan', 'Bulgaria', 'Morocco', 'Cameroon', 'Venezuela',\n",
    "                     'Algeria', 'Senegal', 'Guinea', 'Niger', 'Laos', 'Albania',\n",
    "                     'Cambodia', 'Bangladesh', 'Gabon', 'South Africa', 'Iraq',\n",
    "                     'Lebanon', 'Burkina Faso', 'Mali', 'Nigeria', 'Armenia',\n",
    "                     'Georgia', 'Iran', 'Jordan', 'Mozambique', 'Kenya', 'Ukraine',\n",
    "                     'Liberia', 'Palestinian Territories', 'Uganda', 'Chad', 'Tunisia',\n",
    "                     'Mauritania', 'Sri Lanka', 'Congo (Kinshasa)', 'Swaziland',\n",
    "                     'Myanmar', 'Comoros', 'Togo', 'Ethiopia', 'Madagascar', 'Egypt',\n",
    "                     'Sierra Leone', 'Burundi', 'Zambia', 'Haiti', 'Lesotho', 'India',\n",
    "                     'Malawi', 'Yemen', 'Botswana', 'Tanzania',\n",
    "                     'Central African Republic', 'Rwanda', 'Zimbabwe', 'Afghanistan',\n",
    "                     'Bhutan', 'Syria', 'Sudan', 'Angola', 'Oman', 'Suriname',\n",
    "                     'Somaliland region', 'Djibouti']\n",
    "\n",
    "country_category = {}\n",
    "for country in data['Country']:\n",
    "    if country in advanced_country:\n",
    "        country_category[country] = 'Advanced Country'\n",
    "    else:\n",
    "        country_category[country] = 'Emerging Country'\n",
    "        \n",
    "# Add column 'Category' into dataset\n",
    "data['Category'] = data['Country'].map(country_category)\n",
    "\n",
    "# Separate data for advanced and emerging countries\n",
    "advanced_country = data[data['Category'] == 'Advanced Country']\n",
    "emerging_country = data[data['Category'] == 'Emerging Country']\n"
   ]
  },
  {
   "cell_type": "code",
   "execution_count": 25,
   "id": "3f3833e1",
   "metadata": {},
   "outputs": [
    {
     "name": "stdout",
     "output_type": "stream",
     "text": [
      "T-Test Result:\n",
      "T-Statistics: 29.78063432287581\n",
      "P-Value: 1.0724087613681365e-132\n",
      "There is a significant difference between the happiness scores of developed countries and developing countries.\n"
     ]
    }
   ],
   "source": [
    "# Test the differences in happiness scores using the t-test\n",
    "t_statistic, p_value = stats.ttest_ind(advanced_country['Score'],\n",
    "                                       emerging_country['Score'],\n",
    "                                       equal_var=False)\n",
    "\n",
    "# Display test result\n",
    "print('T-Test Result:')\n",
    "print('T-Statistics:', t_statistic)\n",
    "print('P-Value:', p_value)\n",
    "\n",
    "# Interpretation of test results\n",
    "alpha = 0.05 # level of signification\n",
    "if p_value < alpha:\n",
    "    print('There is a significant difference between the happiness scores of developed countries and developing countries.')\n",
    "else:\n",
    "    print('There is no significant difference between the happiness scores of developed countries and developing countries')"
   ]
  },
  {
   "cell_type": "markdown",
   "id": "4d5fece1",
   "metadata": {},
   "source": [
    "* T-Statistics: The t-Statistics value is 29.78063432287581. This value illustrates how big the difference is between the happiness scores of developed countries and developing countries in standard units. The higher the t-Statistics value, the greater the significant difference between the groups.\n",
    "\n",
    "* P-Value: The P-Value is 1.0724087613681365e-132. The P-Value is a measure of statistical significance. In this case, the very small P-Value suggests that the differences observed between developed and developing country happiness scores could not have occurred by chance. A very small P-Value indicates that this difference is statistically significant.\n",
    "\n",
    "With that said, there are significant differences in happiness scores between developed and developing countries. Developed countries may have higher happiness scores than developing countries. This could suggest that factors influencing happiness, such as the economy, health, and social support, may differ between developed and developing countries."
   ]
  },
  {
   "cell_type": "code",
   "execution_count": 26,
   "id": "b6e3c8ea",
   "metadata": {},
   "outputs": [
    {
     "data": {
      "image/png": "[encoded data removed]",
      "text/plain": [
       "<Figure size 640x480 with 1 Axes>"
      ]
     },
     "metadata": {},
     "output_type": "display_data"
    }
   ],
   "source": [
    "# To answer Q2\n",
    "# But first let's check linearity between independent and dependent variables\n",
    "title = 'Relationship Between Economy x Score'\n",
    "fig = sns.scatterplot(data=data,\n",
    "                     x='Economy',\n",
    "                     y='Score',\n",
    "                     color= '#008B8B')\n",
    "# Set up figure\n",
    "plt.title(label=title,\n",
    "         x=0.1,\n",
    "         y=1.12,\n",
    "         fontsize=14)\n",
    "fig.set(xlabel='Economy', ylabel='Happiness Score')\n",
    "sns.despine(left=True)\n",
    "plt.subplots_adjust(left=0.25, right=0.75)"
   ]
  },
  {
   "cell_type": "code",
   "execution_count": 27,
   "id": "09239808",
   "metadata": {},
   "outputs": [
    {
     "name": "stderr",
     "output_type": "stream",
     "text": [
      "/Library/Frameworks/Python.framework/Versions/3.10/lib/python3.10/site-packages/scipy/optimize/_minpack_py.py:906: OptimizeWarning: Covariance of the parameters could not be estimated\n",
      "  warnings.warn('Covariance of the parameters could not be estimated',\n"
     ]
    },
    {
     "data": {
      "image/png": "[encoded data removed]",
      "text/plain": [
       "<Figure size 640x480 with 1 Axes>"
      ]
     },
     "metadata": {},
     "output_type": "display_data"
    },
    {
     "name": "stdout",
     "output_type": "stream",
     "text": [
      "Parameter regression:\n",
      "a = 3.44594571960827\n",
      "b = -9.979670509148383\n",
      "c = 5.608489208048686\n"
     ]
    }
   ],
   "source": [
    "# Based on scatter plot above it seems that both variables indicate\n",
    "# non-linear relationship. So we decide to do non-linear regression instead\n",
    "from scipy.optimize import curve_fit\n",
    "\n",
    "data_eco = data[['Economy', 'Score']] # Select column and define dataframe name\n",
    "data_eco = data_eco.dropna() # remove NaN values\n",
    "\n",
    "# Define logistic function\n",
    "def logistic_function(x, a, b, c):\n",
    "    return c / (1 + np.exp(-a * (x - b)))\n",
    "\n",
    "# Adjust the curve using the 'curve_fit' function\n",
    "x = data_eco['Economy']\n",
    "y = data_eco['Score']\n",
    "popt, pcov = curve_fit(logistic_function, x, y)\n",
    "\n",
    "# Plot the real data\n",
    "plt.scatter(x, y, label='Data')\n",
    "\n",
    "# Plot curve based on regression result\n",
    "x_range = np.linspace(min(x), max(y), 100)\n",
    "y_fit = logistic_function(x_range, *popt)\n",
    "plt.plot(x_range, y_fit, 'r-', label='Logistic Regression')\n",
    "\n",
    "plt.xlabel('Economy')\n",
    "plt.ylabel('Happiness Score')\n",
    "plt.legend()\n",
    "plt.show()\n",
    "\n",
    "# Display regression result parameter\n",
    "print('Parameter regression:')\n",
    "print('a =', popt[0])\n",
    "print('b =', popt[1])\n",
    "print('c =', popt[2])\n"
   ]
  },
  {
   "cell_type": "markdown",
   "id": "b52c10da",
   "metadata": {},
   "source": [
    "Economic factors have a significant influence on happiness scores in various countries. In this case, a negative b value (-9.979670509148383) indicates that the higher the economic factor, the lower the happiness score. That is, countries with higher economic factors may have lower happiness scores."
   ]
  },
  {
   "cell_type": "code",
   "execution_count": 30,
   "id": "09c55314",
   "metadata": {},
   "outputs": [
    {
     "name": "stdout",
     "output_type": "stream",
     "text": [
      "Mean coefficient: 0.003167489533086409\n",
      "95% Confidence Interval: (0.0007921122302093047, 0.005452910374299856)\n"
     ]
    }
   ],
   "source": [
    "# To answer Q3\n",
    "# In this process, we tend to use other methods,\n",
    "# because in the previous process the covariance\n",
    "# could not be estimated properly. \n",
    "# We will use an alternative regression algorithm, \n",
    "# namely using the bootstrap function.\n",
    "from sklearn.utils import resample\n",
    "import statsmodels.api as sm\n",
    "\n",
    "df_health = data[data['Health'] != 0]\n",
    "\n",
    "# Separate independent and dependent variables\n",
    "X = df_health[['Health']]\n",
    "y = df_health[['Score']]\n",
    "\n",
    "# Define bootstrap function to estimate parameter\n",
    "def bootstrap_regression(X, y, n_bootstrap):\n",
    "    coefs = []\n",
    "    for _ in range(n_bootstrap):\n",
    "        X_resampled, y_resampled = resample(X, y)\n",
    "        X_resampled = sm.add_constant(X_resampled) # this one add constanta column for intercept\n",
    "        model = sm.OLS(y_resampled, X_resampled)\n",
    "        result = model.fit()\n",
    "        coefs.append(result.params[1]) # to take regression parameter (koefisien) for independent variable\n",
    "    return coefs\n",
    "\n",
    "# Desired amount of bootstrap\n",
    "n_bootstrap = 1000\n",
    "\n",
    "# Conduct bootstrap regression\n",
    "bootstrapped_coefs = bootstrap_regression(X, y, n_bootstrap)\n",
    "\n",
    "# Calculates the mean and 95% confidence intervals of the bootstrap coefficients\n",
    "coef_mean = np.mean(bootstrapped_coefs)\n",
    "coef_lower = np.percentile(bootstrapped_coefs, 2.5)\n",
    "coef_upper = np.percentile(bootstrapped_coefs, 97.5)\n",
    "\n",
    "# Display the result\n",
    "print('Mean coefficient:', coef_mean)\n",
    "print('95% Confidence Interval:', (coef_lower, coef_upper))\n"
   ]
  },
  {
   "cell_type": "markdown",
   "id": "0b18475d",
   "metadata": {},
   "source": [
    "We use the bootstrap method to estimate the regression coefficient between 'Health (life expectancy)' and 'Score (Happiness Score)', with each iteration selecting a random sample of the original data. Each of these samples is used to obtain coefficient estimates using the OLS (Least Squares) model from statsmodels.\n",
    "\n",
    "After completing bootstrap regression, we calculate the mean and 95% confidence interval of the coefficients obtained. This provides more stable parameter estimates and more reliable confidence intervals."
   ]
  },
  {
   "cell_type": "markdown",
   "id": "108b0019",
   "metadata": {},
   "source": [
    "* Relationship: A positive mean coefficient indicates a positive relationship between life expectancy and happiness scores. That is, the higher the life expectancy, the happiness scores tend to be higher.\n",
    "\n",
    "* Confidence: The 95% confidence interval provides information about the range in which the true coefficient values are likely to lie. In this case, with 95% confidence, you could say that the relationship between life expectancy and happiness scores is estimated to be between 0.0007921122302093047 and 0.005452910374299856.\n",
    "\n",
    "Health (life expectancy) has a significant positive effect on happiness scores in various countries. In this context, countries with higher life expectancies tend to have higher happiness scores. This indicates that factors that contribute to an increase in life expectancy, such as health, access to medical services, and a supportive environment, also have an impact on the level of individual happiness in that country."
   ]
  },
  {
   "cell_type": "code",
   "execution_count": 31,
   "id": "b3862db5",
   "metadata": {
    "scrolled": true
   },
   "outputs": [
    {
     "name": "stdout",
     "output_type": "stream",
     "text": [
      "                            OLS Regression Results                            \n",
      "==============================================================================\n",
      "Dep. Variable:                  Score   R-squared:                       0.311\n",
      "Model:                            OLS   Adj. R-squared:                  0.310\n",
      "Method:                 Least Squares   F-statistic:                     420.8\n",
      "Date:                Sat, 13 May 2023   Prob (F-statistic):           1.70e-77\n",
      "Time:                        20:18:00   Log-Likelihood:                -1214.9\n",
      "No. Observations:                 936   AIC:                             2434.\n",
      "Df Residuals:                     934   BIC:                             2444.\n",
      "Df Model:                           1                                         \n",
      "Covariance Type:            nonrobust                                         \n",
      "==================================================================================\n",
      "                     coef    std err          t      P>|t|      [0.025      0.975]\n",
      "----------------------------------------------------------------------------------\n",
      "const              3.6206      0.101     35.795      0.000       3.422       3.819\n",
      "Social Support     1.9497      0.095     20.514      0.000       1.763       2.136\n",
      "==============================================================================\n",
      "Omnibus:                        8.475   Durbin-Watson:                   0.334\n",
      "Prob(Omnibus):                  0.014   Jarque-Bera (JB):                5.926\n",
      "Skew:                           0.039   Prob(JB):                       0.0517\n",
      "Kurtosis:                       2.618   Cond. No.                         6.84\n",
      "==============================================================================\n",
      "\n",
      "Notes:\n",
      "[1] Standard Errors assume that the covariance matrix of the errors is correctly specified.\n",
      "T-Statistic: 16.20142407324294\n",
      "P-Value: 4.891486936037669e-52\n"
     ]
    }
   ],
   "source": [
    "# To answer Q4\n",
    "# We're going to use linear regression and mean difference test\n",
    "# to evaluate between 2 variables\n",
    "# Separate for independent and dependent variable\n",
    "X = data[['Social Support']]\n",
    "y = data[['Score']]\n",
    "\n",
    "# adding constanta for linear regression\n",
    "X = sm.add_constant(X)\n",
    "\n",
    "# Create model linear regression\n",
    "model = sm.OLS(y, X)\n",
    "result = model.fit()\n",
    "\n",
    "# Display result\n",
    "print(result.summary())\n",
    "\n",
    "# Grouping countries with high and low happiness scores\n",
    "high_happiness_country = data[data['Score'] > data['Score'].median()]\n",
    "low_happiness_country = data[data['Score'] <= data['Score'].median()]\n",
    "\n",
    "# Conduct a test for differences in the average level of social \n",
    "# support between the two groups of countries\n",
    "t_statistic, p_value = stats.ttest_ind(\n",
    "    high_happiness_country['Social Support'],\n",
    "    low_happiness_country['Social Support'],\n",
    "    equal_var=False)\n",
    "\n",
    "# Display result\n",
    "print('T-Statistic:', t_statistic)\n",
    "print('P-Value:', p_value)\n"
   ]
  },
  {
   "cell_type": "markdown",
   "id": "a595cc2d",
   "metadata": {},
   "source": [
    "* R-squared and Adj. R-squared: R-squared and Adj values. R-squared is 0.311 and 0.310 respectively. R-squared measures how well your regression model fits the data, and values range between 0 and 1. Higher R-squared values indicate that the independent variable (level of social support) explains about 31.1% of the variation in happiness scores. Adj. R-squared is an adjusted version of R-squared for model complexity and the number of independent variables.\n",
    "\n",
    "* Coef: The regression coefficients you get are as follows:\n",
    "\n",
    "    * Constant (const): The value of the constant (intercept) is 3.6206. It shows the expected happiness score when the level of social support is 0.\n",
    "    * Level of Social Support: The coefficient value for the variable level of social support is 1.9497. This shows that every 1-unit increase in the level of social support is expected to increase the happiness score by 1.9497.\n",
    "    \n",
    "* T-Statistic and P-Value: The T-Statistic value for the level of social support is 16.20142407324294. This value measures how significant the effect of the independent variable is on the dependent variable. The P-Value obtained is 4.891486936037669e-52 (very small). This shows that the level of social support has a significant effect on the happiness score.\n",
    "\n",
    "Insight:\n",
    "1. Effect of Level of Social Support: The results of the analysis show that the level of social support has a significant effect on the happiness score. Every 1-unit increase in the level of social support is expected to increase the happiness score by 1.9497.\n",
    "\n",
    "2. Differences in Levels of Social Support: From the results of this analysis, there is no direct information showing differences in levels of social support between countries with high and low happiness scores. However, you can see that the level of social support significantly affects the overall happiness score."
   ]
  },
  {
   "cell_type": "code",
   "execution_count": 32,
   "id": "189c0216",
   "metadata": {},
   "outputs": [
    {
     "name": "stdout",
     "output_type": "stream",
     "text": [
      "Correlation between Trust and Happiness Score: 0.10609328835254188\n",
      "                            OLS Regression Results                            \n",
      "==============================================================================\n",
      "Dep. Variable:                  Score   R-squared:                       0.011\n",
      "Model:                            OLS   Adj. R-squared:                  0.010\n",
      "Method:                 Least Squares   F-statistic:                     10.62\n",
      "Date:                Sat, 13 May 2023   Prob (F-statistic):            0.00116\n",
      "Time:                        20:18:22   Log-Likelihood:                -1382.1\n",
      "No. Observations:                 935   AIC:                             2768.\n",
      "Df Residuals:                     933   BIC:                             2778.\n",
      "Df Model:                           1                                         \n",
      "Covariance Type:            nonrobust                                         \n",
      "==============================================================================\n",
      "                 coef    std err          t      P>|t|      [0.025      0.975]\n",
      "------------------------------------------------------------------------------\n",
      "const          5.5007      0.048    115.312      0.000       5.407       5.594\n",
      "Trust          0.3844      0.118      3.259      0.001       0.153       0.616\n",
      "==============================================================================\n",
      "Omnibus:                       20.150   Durbin-Watson:                   0.161\n",
      "Prob(Omnibus):                  0.000   Jarque-Bera (JB):               11.799\n",
      "Skew:                          -0.093   Prob(JB):                      0.00274\n",
      "Kurtosis:                       2.482   Cond. No.                         3.68\n",
      "==============================================================================\n",
      "\n",
      "Notes:\n",
      "[1] Standard Errors assume that the covariance matrix of the errors is correctly specified.\n"
     ]
    }
   ],
   "source": [
    "# To answer Q5\n",
    "# In this process we evaluate the relationship also \n",
    "# calculate correlation\n",
    "\n",
    "# Separate 2 variables\n",
    "X = data['Trust'] # independent variable\n",
    "y = data['Score'] # dependent variable\n",
    "\n",
    "# Drop missing values in both X and y\n",
    "data_cleaned = pd.concat([X, y], axis=1).dropna()\n",
    "X = data_cleaned['Trust']\n",
    "y = data_cleaned['Score']\n",
    "\n",
    "# Calculate correlation value between 2 variables\n",
    "correlation = X.corr(y)\n",
    "print('Correlation between Trust and Happiness Score:', correlation)\n",
    "\n",
    "# Adding constanta for linear regression\n",
    "X = sm.add_constant(X)\n",
    "\n",
    "# Create model linear regression\n",
    "model = sm.OLS(y, X)\n",
    "result = model.fit()\n",
    "\n",
    "# Display result\n",
    "print(result.summary())\n"
   ]
  },
  {
   "cell_type": "markdown",
   "id": "27039fc5",
   "metadata": {},
   "source": [
    "* Correlation: The correlation between the level of trust in the government and the happiness score is 0.10609328835254188. This value indicates the level of linear relationship between the two variables. The positive correlation indicates that there is a positive, albeit weak, relationship between the level of trust in the government and the happiness score.\n",
    "\n",
    "* R-squared and Adj. R-squared: R-squared and Adj values. R-squared is 0.011 and 0.010, respectively. The low R-squared value indicates that the variable level of trust in the government is only able to explain about 1.1% of the variation in the happiness score. Adj. R-squared is an adjusted version of R-squared for model complexity and the number of independent variables.\n",
    "\n",
    "* Coef: The regression coefficients you get are as follows:\n",
    "\n",
    "    * Constant (const): The value of the constant (intercept) is 5.5007. It shows the expected happiness score when the level of trust in the government is 0.\n",
    "    * Level of Trust (Trust): The coefficient value for the variable level of trust is 0.3844. This shows that every 1-unit increase in the level of trust in the government is expected to increase the happiness score by 0.3844.\n",
    "    \n",
    "* T-Statistic and P-Value: The T-Statistic value for the level of confidence is 3.259, and the P-Value obtained is 0.001. This shows that the level of trust in the government has a significant effect on the happiness score.\n",
    "\n",
    "Insights:\n",
    "1. There is a weak positive relationship between the level of trust in the government and the happiness score. That is, the higher the level of trust in the government, the score of happiness tends to be also higher, although the effect is not that strong.\n",
    "\n",
    "2. Low R-squared value indicates that other factors besides the level of trust in the government also have a significant effect on the happiness score. This suggests that there are other variables to consider in understanding the factors that influence happiness in these countries. Although the level of trust in government has a significant effect on happiness scores,"
   ]
  },
  {
   "cell_type": "code",
   "execution_count": 34,
   "id": "bde9fc2e",
   "metadata": {},
   "outputs": [
    {
     "name": "stdout",
     "output_type": "stream",
     "text": [
      "                            OLS Regression Results                            \n",
      "==============================================================================\n",
      "Dep. Variable:                  Score   R-squared:                       0.011\n",
      "Model:                            OLS   Adj. R-squared:                  0.010\n",
      "Method:                 Least Squares   F-statistic:                     10.62\n",
      "Date:                Sat, 13 May 2023   Prob (F-statistic):            0.00116\n",
      "Time:                        21:14:55   Log-Likelihood:                -1382.1\n",
      "No. Observations:                 935   AIC:                             2768.\n",
      "Df Residuals:                     933   BIC:                             2778.\n",
      "Df Model:                           1                                         \n",
      "Covariance Type:            nonrobust                                         \n",
      "==============================================================================\n",
      "                 coef    std err          t      P>|t|      [0.025      0.975]\n",
      "------------------------------------------------------------------------------\n",
      "const          5.5007      0.048    115.312      0.000       5.407       5.594\n",
      "Trust          0.3844      0.118      3.259      0.001       0.153       0.616\n",
      "==============================================================================\n",
      "Omnibus:                       20.150   Durbin-Watson:                   0.161\n",
      "Prob(Omnibus):                  0.000   Jarque-Bera (JB):               11.799\n",
      "Skew:                          -0.093   Prob(JB):                      0.00274\n",
      "Kurtosis:                       2.482   Cond. No.                         3.68\n",
      "==============================================================================\n",
      "\n",
      "Notes:\n",
      "[1] Standard Errors assume that the covariance matrix of the errors is correctly specified.\n"
     ]
    }
   ],
   "source": [
    "# To answer Q6\n",
    "# In this process we will use linear regression\n",
    "# Define dataframe that consists only 2 variables\n",
    "generous_df = data[['Generosity', 'Score']]\n",
    "generous_df = generous_df.dropna() # removes missing values\n",
    "\n",
    "# Adding contant column\n",
    "generous_df = sm.add_constant(generous_df)\n",
    "\n",
    "# Separate variabel indpendent and dependent\n",
    "X = generous_df['Generosity']\n",
    "y = generous_df['Score']\n",
    "\n",
    "# Create model and conduct fitting model\n",
    "model = sm.OLS(y, X)\n",
    "results = model.fit()\n",
    "\n",
    "# Display result\n",
    "print(result.summary())\n"
   ]
  },
  {
   "cell_type": "markdown",
   "id": "bd43b35a",
   "metadata": {},
   "source": [
    "Key findings from the process above\n",
    "\n",
    "* There is a weak positive relationship between levels of generosity and happiness scores across countries. That is, the higher the level of generosity, the happiness score tends to be higher, even though the effect is not that strong.\n",
    "\n",
    "* Although the level of generosity has a significant effect on the happiness score, the low R-squared value indicates that other factors besides the level of generosity also have a significant effect on the happiness score. This suggests that there are other variables to consider in understanding the factors that influence happiness in these countries.\n",
    "\n",
    "* It is important to note that these results only provide a preliminary picture of the relationship between levels of generosity and happiness scores. There are other factors that can also affect happiness scores in various countries, and a more comprehensive analysis is needed to fully understand this relationship."
   ]
  },
  {
   "cell_type": "code",
   "execution_count": 40,
   "id": "687e8a3f",
   "metadata": {},
   "outputs": [
    {
     "data": {
      "image/png": "[encoded data removed]",
      "text/plain": [
       "<Figure size 1200x500 with 1 Axes>"
      ]
     },
     "metadata": {},
     "output_type": "display_data"
    }
   ],
   "source": [
    "# To answer Q7\n",
    "# We tend to use descriptive analytic process in this question\n",
    "\n",
    "# Format Year into date format\n",
    "data['Year'] = pd.to_datetime(data['Year'],\n",
    "                             format='%Y')\n",
    "\n",
    "# Calculate mean happines score yearly\n",
    "mean_scores = data.groupby('Year')['Score'].mean().reset_index()\n",
    "\n",
    "# Visualize into line plot to identify trends\n",
    "title = 'Trends Countries Happiness Scores Since 2015-2022'\n",
    "plt.figure(figsize=(12, 5))\n",
    "fig = sns.lineplot(data=data,\n",
    "                     x='Year',\n",
    "                     y='Score',\n",
    "                    errorbar=None)\n",
    "sns.scatterplot(data=mean_scores,\n",
    "               x='Year',\n",
    "               y='Score',\n",
    "               color='#610C04',\n",
    "               marker='o',\n",
    "               s=100)\n",
    "\n",
    "# Set up figure\n",
    "plt.title(label=title,\n",
    "         x=0.1,\n",
    "         y=1.12,\n",
    "         fontsize=14)\n",
    "plt.xticks(rotation=45)\n",
    "plt.grid(True)\n",
    "fig.set(xlabel='Year', ylabel='Happiness Score')\n",
    "\n",
    "max_score_year = mean_scores[mean_scores['Score'] == mean_scores['Score'].max()]\n",
    "plt.annotate(f\"Mean: {max_score_year['Score'].values[0]:.2f}\",\n",
    "             xy=(max_score_year['Year'].values[0], max_score_year['Score'].values[0]),\n",
    "             xytext=(5, 10),\n",
    "             textcoords='offset points',\n",
    "             arrowprops=dict(arrowstyle='->'))\n",
    "sns.despine(left=True)\n"
   ]
  },
  {
   "cell_type": "markdown",
   "id": "7c1742c4",
   "metadata": {},
   "source": [
    "We can see the average happiness score in various countries in the period from 2015 to 2022. Data shows the average happiness occurs in 2021, amounting to 5.70."
   ]
  },
  {
   "cell_type": "code",
   "execution_count": 41,
   "id": "5043fe4f",
   "metadata": {},
   "outputs": [
    {
     "data": {
      "text/plain": [
       "array(['Western Europe', 'Australia and New Zealand', 'North America',\n",
       "       'Middle East and Northern Africa', 'Latin America and Caribbean',\n",
       "       'Southeastern Asia', 'Central and Eastern Europe',\n",
       "       'Sub-Saharan Africa', 'Eastern Asia', 'Southern Asia'],\n",
       "      dtype=object)"
      ]
     },
     "execution_count": 41,
     "metadata": {},
     "output_type": "execute_result"
    }
   ],
   "source": [
    "data['Region'].unique()"
   ]
  },
  {
   "cell_type": "code",
   "execution_count": 42,
   "id": "8e6c9a6d",
   "metadata": {
    "scrolled": true
   },
   "outputs": [
    {
     "name": "stdout",
     "output_type": "stream",
     "text": [
      "                                 count      mean       std    min       25%  \\\n",
      "Region                                                                        \n",
      "Australia and New Zealand         16.0  7.268150  0.052797  7.162  7.226700   \n",
      "Central and Eastern Europe       192.0  5.538956  0.589009  4.096  5.162500   \n",
      "Eastern Asia                      32.0  5.585666  0.377284  4.874  5.245750   \n",
      "Latin America and Caribbean      144.0  6.065798  0.533900  4.707  5.746375   \n",
      "Middle East and Northern Africa  104.0  5.407890  0.938793  2.955  4.703250   \n",
      "North America                     16.0  7.123419  0.184015  6.886  6.970500   \n",
      "Southeastern Asia                 64.0  5.414433  0.752524  3.819  5.007850   \n",
      "Southern Asia                     48.0  4.423240  0.769889  2.404  4.146250   \n",
      "Sub-Saharan Africa               168.0  4.414707  0.633909  2.839  3.968500   \n",
      "Western Europe                   152.0  6.846412  0.701921  4.857  6.445750   \n",
      "\n",
      "                                    50%       75%     max  \n",
      "Region                                                     \n",
      "Australia and New Zealand        7.2840  7.308500  7.3340  \n",
      "Central and Eastern Europe       5.6300  5.992750  6.6300  \n",
      "Eastern Asia                     5.7980  5.900000  6.0390  \n",
      "Latin America and Caribbean      6.0695  6.433275  7.2260  \n",
      "Middle East and Northern Africa  5.1560  6.346750  7.3640  \n",
      "North America                    7.1035  7.287500  7.4270  \n",
      "Southeastern Asia                5.3720  6.005250  6.7980  \n",
      "Southern Asia                    4.4855  4.941000  5.6933  \n",
      "Sub-Saharan Africa               4.4720  4.829075  6.1013  \n",
      "Western Europe                   6.9895  7.452675  7.8420  \n",
      "Anove Difference Test Result:\n",
      "F_onewayResult(statistic=166.0713288793613, pvalue=2.0962757301704288e-186)\n"
     ]
    }
   ],
   "source": [
    "# To answer Q8\n",
    "# We tend to use descriptive analysis and ANOVA difference test\n",
    "\n",
    "# Conduct descriptive analysis\n",
    "region_descr = data.groupby('Region')['Score'].describe()\n",
    "print(region_descr)\n",
    "\n",
    "# Conduct ANOVA difference test\n",
    "anova_result = stats.f_oneway(\n",
    "    data[data['Region'] == 'Western Europe']['Score'],\n",
    "    data[data['Region'] == 'Australia and New Zealand']['Score'],\n",
    "    data[data['Region'] == 'North America']['Score'],\n",
    "    data[data['Region'] == 'Middle East and Northern Africa']['Score'],\n",
    "    data[data['Region'] == 'Latin America and Caribbean']['Score'],\n",
    "    data[data['Region'] == 'Southeastern Asia']['Score'],\n",
    "    data[data['Region'] == 'Central and Eastern Europe']['Score'],\n",
    "    data[data['Region'] == 'Sub-Saharan Africa']['Score'],\n",
    "    data[data['Region'] == 'Eastern Asia']['Score'],\n",
    "    data[data['Region'] == 'Southern Asia']['Score'])\n",
    "\n",
    "# Dispplay test result\n",
    "print('Anove Difference Test Result:')\n",
    "print(anova_result)"
   ]
  },
  {
   "cell_type": "markdown",
   "id": "60e95c10",
   "metadata": {},
   "source": [
    "There are significant differences in happiness factors between the regions we analyze. Thus, the factors influencing happiness can differ between the regions. Small p-value indicates that there is a significant difference in the happiness factor between the tested regions. The obtained F-statistic value is 166.0713288793613. The greater the value of the F-statistic, the greater the difference between the groups tested.\n",
    "\n",
    "We can find out more about these differences by carrying out a post hoc test to determine the differences between groups specifically."
   ]
  },
  {
   "cell_type": "code",
   "execution_count": 43,
   "id": "7e421863",
   "metadata": {},
   "outputs": [
    {
     "name": "stdout",
     "output_type": "stream",
     "text": [
      "                         Multiple Comparison of Means - Tukey HSD, FWER=0.05                          \n",
      "======================================================================================================\n",
      "             group1                          group2             meandiff p-adj   lower   upper  reject\n",
      "------------------------------------------------------------------------------------------------------\n",
      "      Australia and New Zealand      Central and Eastern Europe  -1.7292    0.0 -2.2768 -1.1815   True\n",
      "      Australia and New Zealand                    Eastern Asia  -1.6825    0.0 -2.3269 -1.0381   True\n",
      "      Australia and New Zealand     Latin America and Caribbean  -1.2024    0.0  -1.757 -0.6477   True\n",
      "      Australia and New Zealand Middle East and Northern Africa  -1.8603    0.0 -2.4254 -1.2951   True\n",
      "      Australia and New Zealand                   North America  -0.1447 0.9998 -0.8888  0.5994  False\n",
      "      Australia and New Zealand               Southeastern Asia  -1.8537    0.0  -2.442 -1.2655   True\n",
      "      Australia and New Zealand                   Southern Asia  -2.8449    0.0 -3.4525 -2.2374   True\n",
      "      Australia and New Zealand              Sub-Saharan Africa  -2.8534    0.0 -3.4041 -2.3028   True\n",
      "      Australia and New Zealand                  Western Europe  -0.4217 0.3162 -0.9749  0.1314  False\n",
      "     Central and Eastern Europe                    Eastern Asia   0.0467    1.0 -0.3552  0.4486  False\n",
      "     Central and Eastern Europe     Latin America and Caribbean   0.5268    0.0  0.2948  0.7589   True\n",
      "     Central and Eastern Europe Middle East and Northern Africa  -0.1311 0.8373 -0.3873  0.1252  False\n",
      "     Central and Eastern Europe                   North America   1.5845    0.0  1.0368  2.1321   True\n",
      "     Central and Eastern Europe               Southeastern Asia  -0.1245 0.9537 -0.4283  0.1793  False\n",
      "     Central and Eastern Europe                   Southern Asia  -1.1157    0.0 -1.4554 -0.7761   True\n",
      "     Central and Eastern Europe              Sub-Saharan Africa  -1.1242    0.0 -1.3466 -0.9019   True\n",
      "     Central and Eastern Europe                  Western Europe   1.3075    0.0   1.079   1.536   True\n",
      "                   Eastern Asia     Latin America and Caribbean   0.4801 0.0086  0.0688  0.8915   True\n",
      "                   Eastern Asia Middle East and Northern Africa  -0.1778 0.9478 -0.6032  0.2477  False\n",
      "                   Eastern Asia                   North America   1.5378    0.0  0.8933  2.1822   True\n",
      "                   Eastern Asia               Southeastern Asia  -0.1712 0.9736 -0.6269  0.2844  False\n",
      "                   Eastern Asia                   Southern Asia  -1.1624    0.0 -1.6427 -0.6821   True\n",
      "                   Eastern Asia              Sub-Saharan Africa   -1.171    0.0 -1.5769  -0.765   True\n",
      "                   Eastern Asia                  Western Europe   1.2607    0.0  0.8514  1.6701   True\n",
      "    Latin America and Caribbean Middle East and Northern Africa  -0.6579    0.0 -0.9287 -0.3871   True\n",
      "    Latin America and Caribbean                   North America   1.0576    0.0   0.503  1.6122   True\n",
      "    Latin America and Caribbean               Southeastern Asia  -0.6514    0.0 -0.9675 -0.3352   True\n",
      "    Latin America and Caribbean                   Southern Asia  -1.6426    0.0 -1.9933 -1.2918   True\n",
      "    Latin America and Caribbean              Sub-Saharan Africa  -1.6511    0.0 -1.8901 -1.4121   True\n",
      "    Latin America and Caribbean                  Western Europe   0.7806    0.0  0.5359  1.0254   True\n",
      "Middle East and Northern Africa                   North America   1.7155    0.0  1.1503  2.2807   True\n",
      "Middle East and Northern Africa               Southeastern Asia   0.0065    1.0 -0.3278  0.3409  False\n",
      "Middle East and Northern Africa                   Southern Asia  -0.9847    0.0 -1.3519 -0.6174   True\n",
      "Middle East and Northern Africa              Sub-Saharan Africa  -0.9932    0.0 -1.2558 -0.7306   True\n",
      "Middle East and Northern Africa                  Western Europe   1.4385    0.0  1.1707  1.7064   True\n",
      "                  North America               Southeastern Asia   -1.709    0.0 -2.2973 -1.1207   True\n",
      "                  North America                   Southern Asia  -2.7002    0.0 -3.3077 -2.0926   True\n",
      "                  North America              Sub-Saharan Africa  -2.7087    0.0 -3.2594 -2.1581   True\n",
      "                  North America                  Western Europe   -0.277 0.8539 -0.8302  0.2762  False\n",
      "              Southeastern Asia                   Southern Asia  -0.9912    0.0 -1.3931 -0.5893   True\n",
      "              Southeastern Asia              Sub-Saharan Africa  -0.9997    0.0 -1.3089 -0.6906   True\n",
      "              Southeastern Asia                  Western Europe    1.432    0.0  1.1184  1.7456   True\n",
      "                  Southern Asia              Sub-Saharan Africa  -0.0085    1.0  -0.353  0.3359  False\n",
      "                  Southern Asia                  Western Europe   2.4232    0.0  2.0747  2.7716   True\n",
      "             Sub-Saharan Africa                  Western Europe   2.4317    0.0  2.1961  2.6673   True\n",
      "------------------------------------------------------------------------------------------------------\n"
     ]
    }
   ],
   "source": [
    "# As an alternatif we can conduct post hoc test\n",
    "# The purpose of this test is to know the specific differences between groups\n",
    "import statsmodels.stats.multicomp as mc\n",
    "\n",
    "# Take the required subset data for the post hoc test\n",
    "posthoc_df = data[['Region', 'Score']]\n",
    "\n",
    "# Conduct post hoc test using Tukey HSD method\n",
    "posthoc = mc.MultiComparison(posthoc_df['Score'],\n",
    "                            posthoc_df['Region'])\n",
    "result = posthoc.tukeyhsd()\n",
    "\n",
    "# Display result\n",
    "print(result)"
   ]
  },
  {
   "cell_type": "markdown",
   "id": "32bf059d",
   "metadata": {},
   "source": [
    "After conducting post hoc tests, it was found that happiness factors can differ significantly between regional groups, and these differences may be caused by unique factors or the social, economic, and cultural context in each region."
   ]
  },
  {
   "cell_type": "code",
   "execution_count": 50,
   "id": "99317604",
   "metadata": {},
   "outputs": [
    {
     "name": "stdout",
     "output_type": "stream",
     "text": [
      "Optimization terminated successfully.\n",
      "         Current function value: 0.382543\n",
      "         Iterations 7\n",
      "                           Logit Regression Results                           \n",
      "==============================================================================\n",
      "Dep. Variable:        happiness_label   No. Observations:                  935\n",
      "Model:                          Logit   Df Residuals:                      928\n",
      "Method:                           MLE   Df Model:                            6\n",
      "Date:                Sat, 13 May 2023   Pseudo R-squ.:                  0.3761\n",
      "Time:                        23:27:46   Log-Likelihood:                -357.68\n",
      "converged:                       True   LL-Null:                       -573.26\n",
      "Covariance Type:            nonrobust   LLR p-value:                 5.542e-90\n",
      "==================================================================================\n",
      "                     coef    std err          z      P>|z|      [0.025      0.975]\n",
      "----------------------------------------------------------------------------------\n",
      "const             -6.7437      0.546    -12.360      0.000      -7.813      -5.674\n",
      "Freedom            4.1780      0.797      5.245      0.000       2.617       5.739\n",
      "Trust             -2.9725      1.069     -2.782      0.005      -5.067      -0.878\n",
      "Health            -0.2735      0.033     -8.221      0.000      -0.339      -0.208\n",
      "Economy            2.2936      0.267      8.584      0.000       1.770       2.817\n",
      "Social Support     4.1758      0.430      9.708      0.000       3.333       5.019\n",
      "Generosity        -1.3249      0.784     -1.689      0.091      -2.862       0.212\n",
      "==================================================================================\n"
     ]
    }
   ],
   "source": [
    "# To answer Q9\n",
    "# We are going to use logistic regression to evaluate relationship\n",
    "\n",
    "# To define biner value in happiness score column\n",
    "# Set threshold\n",
    "threshold = 5.0\n",
    "\n",
    "# Format value\n",
    "data['happiness_label'] = data['Score'].apply(lambda x: 1 if x >= threshold else 0)\n",
    "\n",
    "# Define variable dependent and independent\n",
    "y = data['happiness_label'] # as individual happiness score\n",
    "X = data[['Freedom',\n",
    "         'Trust',\n",
    "         'Health',\n",
    "         'Economy',\n",
    "         'Social Support',\n",
    "         'Generosity']] # happiness factors as independent variable\n",
    "\n",
    "# Remove missing values to prevent error\n",
    "data_cleaned = pd.concat([X, y], axis=1).dropna()\n",
    "X = data_cleaned[['Freedom',\n",
    "         'Trust',\n",
    "         'Health',\n",
    "         'Economy',\n",
    "         'Social Support',\n",
    "         'Generosity']]\n",
    "y = data_cleaned['happiness_label']\n",
    "\n",
    "# Adding intercept into independent variable\n",
    "X = sm.add_constant(X)\n",
    "\n",
    "# Create model logistic regression\n",
    "model = sm.Logit(y, X)\n",
    "\n",
    "# Conduct fitting model\n",
    "result = model.fit()\n",
    "\n",
    "# Display result\n",
    "print(result.summary())\n"
   ]
  },
  {
   "cell_type": "markdown",
   "id": "bb851cc8",
   "metadata": {},
   "source": [
    "Penghentian optimisasi berhasil dengan kata-kata \"Optimization terminated successfully\". Hal ini menunjukkan bahwa proses optimisasi telah selesai dengan sukses.\n",
    "\n",
    "Nilai fungsi saat ini (current function value) adalah 0.382543. Nilai ini mencerminkan tingkat kecocokan model terhadap data. Semakin rendah nilai fungsi saat ini, semakin baik model yang dihasilkan.\n",
    "\n",
    "Jumlah iterasi yang dilakukan dalam proses optimisasi adalah 7. Ini menunjukkan berapa kali algoritme optimisasi dijalankan untuk mencapai hasil yang optimal.\n",
    "\n",
    "Model regresi logistik yang digunakan memiliki 6 derajat kebebasan (Df Model) dan 928 derajat kebebasan residu (Df Residuals). Jumlah observasi yang digunakan dalam analisis adalah 935.\n",
    "\n",
    "Metode yang digunakan dalam estimasi adalah MLE (Maximum Likelihood Estimation).\n",
    "\n",
    "Pseudo R-squared adalah 0.3761. Nilai ini mengindikasikan sejauh mana variabel independen (Freedom, Trust, Health, Economy, Social Support, Generosity) dapat menjelaskan variasi dalam variabel dependen (happiness_label). Semakin tinggi nilai Pseudo R-squared, semakin baik model dalam menjelaskan variasi data.\n",
    "\n",
    "Log-Likelihood (Log-Likelihood) adalah -357.68. LL-Null adalah -573.26. LLR p-value adalah 5.542e-90. Nilai-nilai ini terkait dengan perbandingan model Anda dengan model nol (model tanpa variabel independen). LLR p-value yang sangat rendah menunjukkan bahwa model Anda secara signifikan lebih baik daripada model nol.\n",
    "\n",
    "Koefisien (coef) menunjukkan perkiraan efek dari setiap variabel independen terhadap log-odds (logaritma odds) dari variabel dependen. Standard error (std err) memberikan perkiraan ketidakpastian dalam estimasi koefisien. Nilai z dan P>|z| digunakan untuk menguji signifikansi koefisien. Interval kepercayaan 95% untuk koefisien diberikan oleh (0.025, 0.975)."
   ]
  },
  {
   "cell_type": "markdown",
   "id": "ca3c94a9",
   "metadata": {},
   "source": [
    "Insights to take:\n",
    "\n",
    "* Variables that have statistically significant coefficients (p-value <0.05) on the happiness_label dependent variable are Freedom, Trust, Health, Economy, and Social Support. That is, these variables have a significant influence on individual happiness in a country.\n",
    "\n",
    "* The Generosity variable has a higher p-value (0.091), which indicates that its effect on individual happiness is not statistically significant at the 0.05 significance level. However, this p-value is still close to the significance limit, so further research is needed to clarify its effect.\n",
    "\n",
    "* The positive coefficient indicates a positive relationship between the independent variables and individual happiness, while the negative coefficient indicates a negative relationship."
   ]
  },
  {
   "cell_type": "code",
   "execution_count": 52,
   "id": "84c7cec8",
   "metadata": {},
   "outputs": [
    {
     "name": "stdout",
     "output_type": "stream",
     "text": [
      "Correlation Coefficient:\n",
      "          Trust     Score\n",
      "Trust  1.000000  0.106093\n",
      "Score  0.106093  1.000000\n",
      "Optimization terminated successfully.\n",
      "         Current function value: 0.611516\n",
      "         Iterations 5\n",
      "                           Logit Regression Results                           \n",
      "==============================================================================\n",
      "Dep. Variable:        happiness_label   No. Observations:                  935\n",
      "Model:                          Logit   Df Residuals:                      933\n",
      "Method:                           MLE   Df Model:                            1\n",
      "Date:                Sat, 13 May 2023   Pseudo R-squ.:                0.002605\n",
      "Time:                        23:44:58   Log-Likelihood:                -571.77\n",
      "converged:                       True   LL-Null:                       -573.26\n",
      "Covariance Type:            nonrobust   LLR p-value:                   0.08395\n",
      "==============================================================================\n",
      "                 coef    std err          z      P>|z|      [0.025      0.975]\n",
      "------------------------------------------------------------------------------\n",
      "const          0.7196      0.097      7.440      0.000       0.530       0.909\n",
      "Trust          0.4262      0.249      1.708      0.088      -0.063       0.915\n",
      "==============================================================================\n"
     ]
    }
   ],
   "source": [
    "# To answer Q10\n",
    "\n",
    "# Find correlation\n",
    "correlation = data[['Trust', 'Score']].corr()\n",
    "print('Correlation Coefficient:')\n",
    "print(correlation)\n",
    "\n",
    "# Set threshold\n",
    "threshold = 5.0\n",
    "\n",
    "# Format value\n",
    "data['happiness_label'] = data['Score'].apply(lambda x: 1 if x >= threshold else 0)\n",
    "\n",
    "# Define variable dependent and independent\n",
    "y = data['happiness_label'] # as individual happiness score\n",
    "X = data['Trust'] # happiness factors as independent variable\n",
    "\n",
    "# Remove missing values to prevent error\n",
    "data_cleaned = pd.concat([X, y], axis=1).dropna()\n",
    "X = data_cleaned['Trust']\n",
    "y = data_cleaned['happiness_label']\n",
    "\n",
    "# Adding intercept into independent variable\n",
    "X = sm.add_constant(X)\n",
    "\n",
    "# Create model logistic regression\n",
    "model = sm.Logit(y, X)\n",
    "\n",
    "# Conduct fitting model\n",
    "result = model.fit()\n",
    "\n",
    "# Display result\n",
    "print(result.summary())\n"
   ]
  },
  {
   "cell_type": "markdown",
   "id": "dd69b34b",
   "metadata": {},
   "source": [
    "Insights based on the process above:\n",
    "\n",
    "* The results of the correlation analysis showed that the correlation coefficient between the variables \"Trust\" (level of trust) and \"Score\" (score of happiness) was 0.106093. This figure indicates that there is a weak positive relationship between the level of trust and the happiness score. Although the correlation is low, it still shows a relationship between the two variables.\n",
    "\n",
    "* Furthermore, the results of logistic regression analysis show that the level of trust (\"Trust\" variable) has a coefficient of 0.4262 with a significance level of 0.088. The positive coefficient indicates that an increase in the level of trust has the potential to increase a person's probability of having a high happiness score.\n",
    "\n",
    "* However, these results also show that the level of trust does not significantly affect the score of people's happiness. This can be seen from the p-value of 0.088 which is greater than the general significance level (eg, 0.05). A high P-value indicates that the relationship between the level of trust and the score of people's happiness may occur by chance or it may be caused by other factors not included in the model.\n",
    "\n",
    "* The insight from this finding is that the level of trust has a weak effect on the score of people's happiness. This indicates that other factors, such as economic conditions, health, and social support, may have a stronger influence on people's happiness than level of trust alone."
   ]
  },
  {
   "cell_type": "markdown",
   "id": "9ae243f7",
   "metadata": {},
   "source": [
    "##### Conclusion"
   ]
  },
  {
   "cell_type": "markdown",
   "id": "456681d7",
   "metadata": {},
   "source": [
    "After carrying out a series of analysis processes, we can jump to conclusions and curate some key findings from all the research questions that have been answered. Here we provide an explanation:\n",
    "\n",
    "1. There are significant differences in happiness scores between developed and developing countries. Countries that are categorized as developed countries tend to have high happiness scores, this is because there are several supporting factors, including stable economic conditions, good health insurance, social support and freedom in life choices that are supported by policy makers in a country . These things can be used as a reference for state implementers or policy makers in developing countries in improving the quality of life of their people.\n",
    "\n",
    "2. It has been mentioned in the previous statement that one of the factors that supports a high happiness score is ensuring health. This has been proven in most countries that have a high happiness score that a country that guarantees the quality of health and standard of living of its people can increase the happiness and comfort of life. There are several factors that also contribute to this, besides the quality of the health itself, easy access to medical services and a supportive environment also play an important role.\n",
    "\n",
    "3. In addition, social support from both the family and the wider environment also plays an important role in increasing the level of community happiness.\n",
    "\n",
    "4. In the case that generosity and trust in the government do not significantly affect the level of people's happiness, the positive relationship shown is not too significant, because these 2 factors do not have too much impact on the happiness score. So it can be concluded that the benchmarks for happiness in a country are guarantees of health and good life expectancy, economic stability, social support and the freedom to determine life for the community."
   ]
  }
 ],
 "metadata": {
  "kernelspec": {
   "display_name": "Python 3 (ipykernel)",
   "language": "python",
   "name": "python3"
  },
  "language_info": {
   "codemirror_mode": {
    "name": "ipython",
    "version": 3
   },
   "file_extension": ".py",
   "mimetype": "text/x-python",
   "name": "python",
   "nbconvert_exporter": "python",
   "pygments_lexer": "ipython3",
   "version": "3.10.7"
  }
 },
 "nbformat": 4,
 "nbformat_minor": 5
}
